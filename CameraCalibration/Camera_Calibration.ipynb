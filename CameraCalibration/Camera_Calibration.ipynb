{
 "cells": [
  {
   "cell_type": "markdown",
   "metadata": {},
   "source": [
    "## 1   (Camera Models- 20 points)  Prove that the vector from the viewpoint of a pinhole camera to the vanishing point (which is a point on the imageplane) of a set of 3D parallel lines in space is parallel to the direction of that set parallel lines. Please show steps of your proof.\n",
    "\n",
    "Hint: You can either use geometric reasoning or algebraic calculation. \n",
    "If you choose to use geometric reasoning, you can use the fact that the projection of a 3D line in space is the intersection of its “interpretation\n",
    "plane” with the image plane.  Here the interpretation plane (IP) is a plane passing through the 3D line and the center of projection (viewpoint) of the\n",
    "camera.  Also, the interpretation planes of two parallel lines intersect in a line passing through the viewpoint, and the intersection line is parallel to\n",
    "the parallel lines.\n",
    "If you select to use algebraic calculation, you may use the parametric representation of a 3D line: P = P0 +tV, where P= (X,Y,Z)  is any point on the\n",
    "line (here    denote for transpose),   P0 = (X0,Y0,Z0)  is a given xed point on the line, vector V = (a,b,c)  represents the direction of the line, and t is\n",
    "the scalar parameter that controls the distance (with sign) between P and P0."
   ]
  },
  {
   "cell_type": "markdown",
   "metadata": {},
   "source": [
    "### [SOLUTION](http://www.cs.toronto.edu/~jepson/csc420/notes/imageProjection.pdf)\n",
    "Let $$\\textbf{P} = \\textbf{P_0} + t\\textbf{V}$$ \n",
    "\n",
    "Where **P** represents a point from the image plane to a vanishing point in 3D-space. The vector **V** represent a line to point *P(a,b,c)* that is in the direction to the vanishing point.\n",
    "\n",
    "$$\\begin{vmatrix}a \\\\ b \\\\ c\\end{vmatrix}$$ \n",
    "\n",
    "\n",
    "\n",
    "All lines parallel to **V** converge as the scalar value *t* goes to infinity i.e.\n",
    "\n",
    "$$ \\lim_{t \\to \\infty} \\textbf{P} = \\textbf{V} $$ \n",
    "\n",
    "for any parallel point in 3D space: for it shares the same vector V for corresponding starting point \n",
    "\n",
    "$$\\textbf{P_i}$$ in the image plane."
   ]
  },
  {
   "cell_type": "markdown",
   "metadata": {},
   "source": [
    "# 2. (Camera Models- 20 points) Show that relation between any image point (xim, yim)   (in the form of (x1,x2,x3)  in projective space ) of a planar surface in 3D space and its corresponding point (Xw, Yw, Zw)  on the plane in 3D space can be represented by a 3×3 matrix. \n",
    "\n",
    "You should start from the general form of the camera model (x1,x2,x3)  = M M (Xw, Yw, Zw, 1) , where the image center (ox, oy), the focal length f, the scaling factors(\n",
    "sx and sy),  the rotation matrix R and the translation vector T are all unknown. Note that in the course slides and the lecture notes, I used a\n",
    "simplied model of the perspective project by assuming ox and oy are known and sx = sy =1, and only discussed the special cases of a plane. So you\n",
    "cannot directly copy those equations I used.  Instead you should use the general form of the projective matrix, and the  general form of a plane\n",
    "n  X  + n  Y  + n  Z   = d. "
   ]
  },
  {
   "cell_type": "markdown",
   "metadata": {},
   "source": [
    "### [SOLUTION](https://www.cis.upenn.edu/~jean/gma-v2-chap5.pdf)\n",
    "\n",
    "$$\\begin{bmatrix}\n",
    "           x_{im} \\\\\n",
    "           y_{im}\n",
    "         \\end{bmatrix}\n",
    "         =\n",
    "         \\begin{bmatrix}\n",
    "           u_{i}/w_{i} \\\\\n",
    "           v_{i}/w_{i}\n",
    "         \\end{bmatrix}\n",
    "         <=\n",
    "         \\begin{bmatrix}\n",
    "           x_{1} \\\\\n",
    "           x_{2} \\\\\n",
    "           x_{3}\n",
    "         \\end{bmatrix}\n",
    "         =\n",
    "         \\begin{bmatrix}\n",
    "           u_{i} \\\\\n",
    "           v_{i} \\\\\n",
    "           w_{i}\n",
    "         \\end{bmatrix}\n",
    "         =\n",
    "         \\textbf{M} \n",
    "         \\begin{bmatrix}\n",
    "           X_{i} \\\\\n",
    "           Y_{i} \\\\\n",
    "           Z_{i} \\\\\n",
    "           1\n",
    "         \\end{bmatrix}\n",
    "$$\n",
    "\n",
    "$$(x_{im},y_{im}) \\text{ is the image point in image (frame) coordinates derived from the perspective projection matrix: } (u_{i},v_{i},w_{i}).$$\n",
    "\n",
    "\n",
    "$$(X_{i},Y_{i},Z_{i}) \\text{ is the object in world coordinates.}$$\n",
    "\n",
    "\n",
    "Notice, in the world coordinates there is the projective space of the object. Notice there is a 1 appended to the 3D world vector. This is to account for any shift in the apparatus when converting to the image. The shifts are absorbed in the projective matrix: **M = M<sub>int</sub> * M<sub>ext</sub>**.\n",
    "\n",
    "The intrinsic parameters accounts for the principal point *(o<sub>x</sub>,o<sub>y</sub>)* and scaling factors *(s<sub>x</sub>,s<sub>y</sub>)* and noted as so:\n",
    "\n",
    "**M<sub>int</sub>**=$$\\begin{bmatrix}-f_{i} & 0 & o_{x} \\\\0 & -f_{i} & o_{y} \\\\0 & 0 & 1\\end{bmatrix}$$\n",
    "\n",
    "The extrinsic paramaters account for rotations and tranpositions:\n",
    "\n",
    "**M<sub>ext</sub>**=$$\\begin{bmatrix}r_{11} & r_{12} & r_{13} & T_{x} \\\\r_{21} & r_{22} & r_{23} & T_{y} \\\\r_{31} & r_{32} & r_{33} & T_{z} \\end{bmatrix}$$\n",
    "\n",
    "and all together:\n",
    "\n",
    "**M**=\n",
    "$$\\begin{bmatrix}-f_{x}r_{11}+o_{x}r_{31}&-f_{x}r_{12}+o_{x}r_{32}&-f_{x}r_{13}+o_{x}r_{33}&-f_{x}T_{x}+o_{x}T_{z} \\\\-f_{y}r_{21}+o_{y}r_{31}&-f_{y}r_{22}+o_{y}r_{32}&-f_{y}r_{23}+o_{x}r_{33}&-f_{y}T_{y}+o_{y}T_{z} \n",
    "\\\\r_{31}&r_{32}&r_{33}&T_{z}\n",
    "\\end{bmatrix}$$\n",
    "\n",
    "Lastly, recalling alignment from the optical axis anaology in the camera model, we implement a scale factor\n",
    "\n",
    "$$\\gamma = \\begin{vmatrix}R_{3}^{T}\\end{vmatrix}$$ such that\n",
    "\n",
    "$$\\hat{\\textbf{M}}= \\gamma \\textbf{M}$$\n"
   ]
  },
  {
   "cell_type": "code",
   "execution_count": 3,
   "metadata": {},
   "outputs": [
    {
     "name": "stdout",
     "output_type": "stream",
     "text": [
      "/Users/ronaldadomako/COURSES/ComputerVision/3DModel\r\n"
     ]
    }
   ],
   "source": [
    "!pwd"
   ]
  },
  {
   "cell_type": "markdown",
   "metadata": {},
   "source": [
    "3.  (Calibration- 20 points )  Prove the Orthocenter Theorem by geometric arguments: Let T be the triangle on the image plane dened by the three\n",
    "vanishing points of three mutually orthogonal sets of parallel lines in space. Then the image center is the orthocenter of the triangle T (i.e., the\n",
    "common intersection of the three altitudes.  Note that you are asked to prove the Orthocenter Theorem rather than that the orthocenter itself as\n",
    "the common interaction of the three altitudes, which you can use as a fact. \n",
    "(1)    Basic proof: use the result of Question 1, assuming the aspect ratio of the camera is 1. (10 points)\n",
    "(2)    If you do not know the  focal length of the camera, can you still nd the image center using the Orthocenter Theorem? Can you further\n",
    "estimate the focal length? For both questions, please show why (and then how) or why not. (5 points)\n",
    "(3)    If you do not know the aspect ratio of the camera, can you still nd the image center using the Orthocenter Theorem? **Show why or why\n",
    "not**. (5 points)"
   ]
  },
  {
   "cell_type": "markdown",
   "metadata": {},
   "source": [
    "### [SOLUTION](https://www.youtube.com/watch?v=HSGM5o_WWlc)\n",
    "\n",
    "![image](/Users/ronaldadomako/COURSES/ComputerVision/3DModel/pinholeCM.png)\n",
    "![alt text](file://pinholeCM.png)"
   ]
  },
  {
   "cell_type": "markdown",
   "metadata": {},
   "source": [
    "4. Calibration Programming Exercises (40 points): Implement the direct parameter calibration method in order to (1) learn how to use SVD to solve\n",
    "systems of linear equations; (2) understand the physical constraints of the camera parameters; and (3) understand important issues related to\n",
    "calibration, such as calibration pattern design, point localization accuracy and robustness of the algorithms. Since calibrating a real camera involves\n",
    "lots of work in calibration pattern design, image processing and error controls as well as solving the equations, we will mainly use simulated data to\n",
    "understand the algorithms.  As a by-product we will also learn how to generate 2D images from 3D models using a “virtual” pinhole camera. The\n",
    "calibration procedure has the following three steps:\n",
    "**1.** Calibration pattern “design”. Generate data of a “virtual” 3D cube similar to the one shown in here of the lecture notes in camera calibration. For\n",
    "example, you can hypothesize a 1x1x1 m  cube and pick up the coordinates of 3-D points on corners of each black square in your world coordinate\n",
    "system. Make sure that your data is sucient for the following calibration procedures. In order to check the correctness of your data, draw your\n",
    "cube (with the control points marked) using Matlab (or whatever tools you are selecting). I have provided a piece of starting code in Matlab for you\n",
    "to use.\n",
    "\n",
    "**2.** A “virtual” camera and its images. Design a “virtual” camera with known intrinsic parameters including focal length f, image center (o , o ) and\n",
    "pixel size (s , s ).  As an example, you can assume that the focal length is f = 16 mm, the image frame size is 512*512 (pixels) with (o ,o ) = (256, 256),\n",
    "and the size of the image sensor  inside your camera is 8.8 mm *6.6 mm (so the pixel size is (s ,s ) = (8.8/512, 6.6/512) ). Capture an image of your\n",
    "“virtual” calibration cube with your virtual camera in a given pose (i.e., R and T).  For example, you can take the picture of the cube 4 meters away\n",
    "and with a tilt angle of 30 degree. Use three rotation angles alpha, beta, gamma to generate the rotation matrix R (refer to the lecture notes in\n",
    "camera model – please check the correctness of the R equation especially for signs).  You may need to try dierent pose in order to have a suitable\n",
    "image of your calibration target. In your report, please clearly list the parameters you used for generating your calibration image. They are called\n",
    "the “ground truth” of the parameters.\n",
    "\n",
    "**3.** Direction calibration method: Estimate the intrinsic (f , f , aspect ratio a, image center (o ,o ) ) and extrinsic (R, T and further alpha, beta, gamma)\n",
    "parameters. Use SVD to solve the homogeneous linear system and the least square problem, and to enforce the orthogonality constraint on the\n",
    "estimate of R.  You are asked to do the following:\n",
    "        \n",
    "**i.**      Use the accurately simulated data (both 3D world coordinates and 2D image coordinates) to the algorithms, and compare the results with\n",
    "the “ground truth” data (which are given in step (a) and step (b)).  Remember you are practicing a camera calibration, so you should pretend you\n",
    "know nothing about the camera parameters (i.e. you cannot use the ground truth data in your calibration process). However, in the direct\n",
    "calibration method, you could use the knowledge of the image center (in the homogeneous system to nd extrinsic parameters) and the aspect\n",
    "ratio (in the Orthocenter theorem method to nd image center). \n",
    "\n",
    "**ii.**      Show experimentally whether the unknown aspect ratio matters in estimating the image center, and how the initial estimation of image\n",
    "center aects the estimating of the remaining parameters.  Give a solution to solve the problems if any and implement it.\n",
    "\n",
    "**iii.**      Accuracy Issues. Add in some random noises to the simulated data and run the calibration algorithms again. See how the “design tolerance”\n",
    "of the calibration target and the localization errors of 2D image points aect the calibration accuracy. For example, you can add 0.5 mm random\n",
    "error to 3D points and 1.0 pixel random error to 2D points. Also analyze how sensitive of the Orthocenter method is to the extrinsic parameters in\n",
    "imaging the three sets of the orthogonal parallel lines. (* extra points:10)\n",
    "In all of the steps, you should give you results using either tables or graphs, or both of them."
   ]
  },
  {
   "cell_type": "raw",
   "metadata": {},
   "source": []
  },
  {
   "cell_type": "code",
   "execution_count": null,
   "metadata": {},
   "outputs": [],
   "source": []
  }
 ],
 "metadata": {
  "kernelspec": {
   "display_name": "Python 3",
   "language": "python",
   "name": "python3"
  },
  "language_info": {
   "codemirror_mode": {
    "name": "ipython",
    "version": 3
   },
   "file_extension": ".py",
   "mimetype": "text/x-python",
   "name": "python",
   "nbconvert_exporter": "python",
   "pygments_lexer": "ipython3",
   "version": "3.7.6"
  }
 },
 "nbformat": 4,
 "nbformat_minor": 4
}
